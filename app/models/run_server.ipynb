{
 "cells": [
  {
   "cell_type": "code",
   "execution_count": 1,
   "id": "deb52221",
   "metadata": {},
   "outputs": [],
   "source": [
    "#Создаем сервис для обработки запросов к модели\n",
    "\n",
    "import pandas as pd\n",
    "import dill"
   ]
  },
  {
   "cell_type": "code",
   "execution_count": 2,
   "id": "96d8434e",
   "metadata": {},
   "outputs": [],
   "source": [
    "#Загружаем обученные модели\n",
    "\n",
    "with open('logreg_pipeline.dill', 'rb') as in_strm:\n",
    "    model = dill.load(in_strm)"
   ]
  },
  {
   "cell_type": "code",
   "execution_count": 3,
   "id": "242bf0c1",
   "metadata": {},
   "outputs": [],
   "source": [
    "X_test = pd.read_csv(\"X_test.csv\")\n",
    "y_test = pd.read_csv(\"y_test.csv\")"
   ]
  },
  {
   "cell_type": "code",
   "execution_count": null,
   "id": "f8c63f04",
   "metadata": {},
   "outputs": [
    {
     "name": "stdout",
     "output_type": "stream",
     "text": [
      " * Serving Flask app \"__main__\" (lazy loading)\n",
      " * Environment: production\n",
      "   WARNING: This is a development server. Do not use it in a production deployment.\n",
      "   Use a production WSGI server instead.\n",
      " * Debug mode: off\n"
     ]
    },
    {
     "name": "stderr",
     "output_type": "stream",
     "text": [
      " * Running on http://127.0.0.1:5000/ (Press CTRL+C to quit)\n",
      "127.0.0.1 - - [31/Jul/2022 19:30:09] \"\u001b[37mPOST /predict HTTP/1.1\u001b[0m\" 200 -\n"
     ]
    },
    {
     "name": "stdout",
     "output_type": "stream",
     "text": [
      "OK\n"
     ]
    },
    {
     "name": "stderr",
     "output_type": "stream",
     "text": [
      "127.0.0.1 - - [31/Jul/2022 19:38:10] \"\u001b[37mPOST /predict HTTP/1.1\u001b[0m\" 200 -\n"
     ]
    },
    {
     "name": "stdout",
     "output_type": "stream",
     "text": [
      "OK\n"
     ]
    }
   ],
   "source": [
    "# Обработчики и запуск Flask\n",
    "\n",
    "from flask import Flask, request, jsonify\n",
    "\n",
    "app = Flask(__name__)\n",
    "#run_with_ngrok(app)  # Start ngrok when app is run\n",
    "\n",
    "\n",
    "@app.route(\"/\", methods=[\"GET\"])\n",
    "def general():\n",
    "    return \"Welcome to prediction process\"\n",
    "\n",
    "@app.route('/predict', methods=['POST'])\n",
    "def predict():\n",
    "    data = {\"success\": False}\n",
    "    \n",
    "#['Pclass', 'Sex', 'Age', 'SibSp', 'Parch', 'Fare', 'Cabin', 'Embarked']\n",
    "    Pclass, Sex, Age, SibSp, Parch, Fare, Cabin, Embarked = -1, -1, -1, -1, -1, \"\", \"\", \"\"\n",
    "    request_json = request.get_json()\n",
    "    \n",
    "    if request_json[\"Pclass\"]:\n",
    "        Pclass = request_json['Pclass']\n",
    "    \n",
    "    if request_json[\"Sex\"]:\n",
    "        Sex = request_json['Sex']\n",
    "                \n",
    "    if request_json[\"Age\"]:\n",
    "        Age = request_json['Age']\n",
    "\n",
    "    if request_json[\"SibSp\"]:\n",
    "        SibSp = request_json['SibSp']\n",
    "\n",
    "    if request_json[\"Parch\"]:\n",
    "        Parch = request_json['Parch']\n",
    "\n",
    "    if request_json[\"Fare\"]:\n",
    "        Fare = request_json['Fare']\n",
    "\n",
    "    if request_json[\"Cabin\"]:\n",
    "        Cabin = request_json['Cabin']\n",
    "\n",
    "    if request_json[\"Embarked\"]:\n",
    "        Embarked = request_json['Embarked']\n",
    "        \n",
    "    preds = model.predict_proba(pd.DataFrame({\"Pclass\": [Pclass],\n",
    "                                              \"Sex\": [Sex],\n",
    "                                              \"Age\": [Age],\n",
    "                                              \"SibSp\": [SibSp],\n",
    "                                              \"Parch\": [Parch],                                              \n",
    "                                              \"Fare\": [Fare],\n",
    "                                              \"Cabin\": [Cabin],\n",
    "                                              \"Embarked\": [Embarked]}))\n",
    "    data[\"predictions\"] = preds[:, 1][0]\n",
    "    data[\"success\"] = True\n",
    "    print('OK')\n",
    "\n",
    "        # return the data dictionary as a JSON response\n",
    "    return jsonify(data)\n",
    "\n",
    "\n",
    "if __name__ == '__main__':\n",
    "    app.run()"
   ]
  },
  {
   "cell_type": "code",
   "execution_count": null,
   "id": "5428aea0",
   "metadata": {},
   "outputs": [],
   "source": []
  }
 ],
 "metadata": {
  "kernelspec": {
   "display_name": "Python 3",
   "language": "python",
   "name": "python3"
  },
  "language_info": {
   "codemirror_mode": {
    "name": "ipython",
    "version": 3
   },
   "file_extension": ".py",
   "mimetype": "text/x-python",
   "name": "python",
   "nbconvert_exporter": "python",
   "pygments_lexer": "ipython3",
   "version": "3.8.8"
  }
 },
 "nbformat": 4,
 "nbformat_minor": 5
}
