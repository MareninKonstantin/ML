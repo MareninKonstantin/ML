{
 "cells": [
  {
   "cell_type": "markdown",
   "id": "35ff5890",
   "metadata": {},
   "source": [
    "## Тестовый клиент"
   ]
  },
  {
   "cell_type": "code",
   "execution_count": 1,
   "id": "77d608c4",
   "metadata": {},
   "outputs": [],
   "source": [
    "import requests\n",
    "import urllib.request\n",
    "import json"
   ]
  },
  {
   "cell_type": "code",
   "execution_count": 2,
   "id": "ad1f8e34",
   "metadata": {},
   "outputs": [],
   "source": [
    "#Данные для предсказания\n",
    "\n",
    "data = (1,\n",
    "        'female',\n",
    "        23,\n",
    "        1,\n",
    "        0,\n",
    "        82.2667,\n",
    "        'B45',\n",
    "        'S'\n",
    "       )"
   ]
  },
  {
   "cell_type": "code",
   "execution_count": 3,
   "id": "f145bf64",
   "metadata": {},
   "outputs": [],
   "source": [
    "#Формируем запрос\n",
    "\n",
    "def send_json(x):\n",
    "    Pclass, Sex, Age, SibSp, Parch, Fare, Cabin, Embarked = x\n",
    "    \n",
    "    body = {\n",
    "            'Pclass': Pclass,        \n",
    "            'Sex': Sex, \n",
    "            'Age': Age,\n",
    "            'SibSp': SibSp,\n",
    "            'Parch': Parch, \n",
    "            'Fare': Fare,\n",
    "            'Cabin': Cabin,        \n",
    "            'Embarked': Embarked \n",
    "            }\n",
    "    myurl = 'http://127.0.0.1:5000' + '/predict'   \n",
    "    headers = {'content-type':'application/json; charset=utf-8'}    \n",
    "    response = requests.post(myurl, json=body, headers=headers) \n",
    "    print(response)\n",
    "    return response.json()['predictions']"
   ]
  },
  {
   "cell_type": "code",
   "execution_count": 4,
   "id": "2fa25e60",
   "metadata": {},
   "outputs": [
    {
     "name": "stdout",
     "output_type": "stream",
     "text": [
      "<Response [200]>\n",
      "Предсказание:  0.9038873461426301\n"
     ]
    }
   ],
   "source": [
    "response = send_json(data)\n",
    "print('Предсказание: ', response)"
   ]
  },
  {
   "cell_type": "code",
   "execution_count": null,
   "id": "00d6c802",
   "metadata": {},
   "outputs": [],
   "source": []
  }
 ],
 "metadata": {
  "kernelspec": {
   "display_name": "Python 3",
   "language": "python",
   "name": "python3"
  },
  "language_info": {
   "codemirror_mode": {
    "name": "ipython",
    "version": 3
   },
   "file_extension": ".py",
   "mimetype": "text/x-python",
   "name": "python",
   "nbconvert_exporter": "python",
   "pygments_lexer": "ipython3",
   "version": "3.8.8"
  }
 },
 "nbformat": 4,
 "nbformat_minor": 5
}
